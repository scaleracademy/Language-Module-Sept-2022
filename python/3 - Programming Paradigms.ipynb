{
 "cells": [
  {
   "cell_type": "markdown",
   "id": "9021a196",
   "metadata": {},
   "source": [
    "# OOPS"
   ]
  },
  {
   "cell_type": "code",
   "execution_count": 1,
   "id": "db95d496",
   "metadata": {},
   "outputs": [],
   "source": [
    "class Student:\n",
    "    pass"
   ]
  },
  {
   "cell_type": "code",
   "execution_count": 2,
   "id": "f6eb1595",
   "metadata": {},
   "outputs": [],
   "source": [
    "s1 = Student()"
   ]
  },
  {
   "cell_type": "code",
   "execution_count": 5,
   "id": "4f2bacf4",
   "metadata": {},
   "outputs": [
    {
     "data": {
      "text/plain": [
       "__main__.Student"
      ]
     },
     "execution_count": 5,
     "metadata": {},
     "output_type": "execute_result"
    }
   ],
   "source": [
    "type(s1) # we'll talk about __main__ in the next class"
   ]
  },
  {
   "cell_type": "code",
   "execution_count": 6,
   "id": "6c050a90",
   "metadata": {},
   "outputs": [
    {
     "data": {
      "text/plain": [
       "True"
      ]
     },
     "execution_count": 6,
     "metadata": {},
     "output_type": "execute_result"
    }
   ],
   "source": [
    "isinstance(s1, object)"
   ]
  },
  {
   "cell_type": "code",
   "execution_count": 7,
   "id": "3125321d",
   "metadata": {},
   "outputs": [
    {
     "data": {
      "text/plain": [
       "8"
      ]
     },
     "execution_count": 7,
     "metadata": {},
     "output_type": "execute_result"
    }
   ],
   "source": [
    "4 + 4"
   ]
  },
  {
   "cell_type": "code",
   "execution_count": 8,
   "id": "f9b95353",
   "metadata": {},
   "outputs": [
    {
     "data": {
      "text/plain": [
       "'string12'"
      ]
     },
     "execution_count": 8,
     "metadata": {},
     "output_type": "execute_result"
    }
   ],
   "source": [
    "\"string1\" + \"2\""
   ]
  },
  {
   "cell_type": "code",
   "execution_count": 9,
   "id": "97f97487",
   "metadata": {},
   "outputs": [],
   "source": [
    "class A:\n",
    "    def __init__(self):\n",
    "        print(id(self))"
   ]
  },
  {
   "cell_type": "code",
   "execution_count": 10,
   "id": "2b82a54b",
   "metadata": {},
   "outputs": [
    {
     "name": "stdout",
     "output_type": "stream",
     "text": [
      "140332440691664\n"
     ]
    }
   ],
   "source": [
    "a = A()"
   ]
  },
  {
   "cell_type": "code",
   "execution_count": 11,
   "id": "1f1909a2",
   "metadata": {},
   "outputs": [
    {
     "data": {
      "text/plain": [
       "140332440691664"
      ]
     },
     "execution_count": 11,
     "metadata": {},
     "output_type": "execute_result"
    }
   ],
   "source": [
    "id(a)"
   ]
  },
  {
   "cell_type": "code",
   "execution_count": 12,
   "id": "0d88d8ff",
   "metadata": {},
   "outputs": [],
   "source": [
    "class Student:\n",
    "    pass"
   ]
  },
  {
   "cell_type": "code",
   "execution_count": 13,
   "id": "493ebfa6",
   "metadata": {},
   "outputs": [],
   "source": [
    "s = Student()"
   ]
  },
  {
   "cell_type": "code",
   "execution_count": 14,
   "id": "2421c4e1",
   "metadata": {},
   "outputs": [],
   "source": [
    "s.name = \"Bipin\""
   ]
  },
  {
   "cell_type": "code",
   "execution_count": 15,
   "id": "9d547a95",
   "metadata": {},
   "outputs": [
    {
     "data": {
      "text/plain": [
       "'Bipin'"
      ]
     },
     "execution_count": 15,
     "metadata": {},
     "output_type": "execute_result"
    }
   ],
   "source": [
    "s.name"
   ]
  },
  {
   "cell_type": "code",
   "execution_count": 16,
   "id": "6396bc99",
   "metadata": {},
   "outputs": [],
   "source": [
    "s1 = Student()"
   ]
  },
  {
   "cell_type": "code",
   "execution_count": 17,
   "id": "efe20948",
   "metadata": {},
   "outputs": [
    {
     "ename": "AttributeError",
     "evalue": "'Student' object has no attribute 'name'",
     "output_type": "error",
     "traceback": [
      "\u001b[0;31m---------------------------------------------------------------------------\u001b[0m",
      "\u001b[0;31mAttributeError\u001b[0m                            Traceback (most recent call last)",
      "\u001b[0;32m/var/folders/nn/c52y0d3j0gq59dpsswchkt2r0000gn/T/ipykernel_41253/2835019485.py\u001b[0m in \u001b[0;36m<module>\u001b[0;34m\u001b[0m\n\u001b[0;32m----> 1\u001b[0;31m \u001b[0ms1\u001b[0m\u001b[0;34m.\u001b[0m\u001b[0mname\u001b[0m\u001b[0;34m\u001b[0m\u001b[0;34m\u001b[0m\u001b[0m\n\u001b[0m",
      "\u001b[0;31mAttributeError\u001b[0m: 'Student' object has no attribute 'name'"
     ]
    }
   ],
   "source": [
    "s1.name"
   ]
  },
  {
   "cell_type": "code",
   "execution_count": 21,
   "id": "b8fe9e67",
   "metadata": {},
   "outputs": [],
   "source": [
    "class Student:\n",
    "    def hello():\n",
    "        print(\"Hello!\")"
   ]
  },
  {
   "cell_type": "code",
   "execution_count": 22,
   "id": "3d5f20e6",
   "metadata": {},
   "outputs": [],
   "source": [
    "s1 = Student()"
   ]
  },
  {
   "cell_type": "code",
   "execution_count": 23,
   "id": "a63e7703",
   "metadata": {},
   "outputs": [
    {
     "ename": "TypeError",
     "evalue": "hello() takes 0 positional arguments but 1 was given",
     "output_type": "error",
     "traceback": [
      "\u001b[0;31m---------------------------------------------------------------------------\u001b[0m",
      "\u001b[0;31mTypeError\u001b[0m                                 Traceback (most recent call last)",
      "\u001b[0;32m/var/folders/nn/c52y0d3j0gq59dpsswchkt2r0000gn/T/ipykernel_41253/2403673524.py\u001b[0m in \u001b[0;36m<module>\u001b[0;34m\u001b[0m\n\u001b[0;32m----> 1\u001b[0;31m \u001b[0ms1\u001b[0m\u001b[0;34m.\u001b[0m\u001b[0mhello\u001b[0m\u001b[0;34m(\u001b[0m\u001b[0;34m)\u001b[0m\u001b[0;34m\u001b[0m\u001b[0;34m\u001b[0m\u001b[0m\n\u001b[0m\u001b[1;32m      2\u001b[0m \u001b[0;34m\u001b[0m\u001b[0m\n\u001b[1;32m      3\u001b[0m \u001b[0;31m# Student.hello(s1)\u001b[0m\u001b[0;34m\u001b[0m\u001b[0;34m\u001b[0m\u001b[0;34m\u001b[0m\u001b[0m\n",
      "\u001b[0;31mTypeError\u001b[0m: hello() takes 0 positional arguments but 1 was given"
     ]
    }
   ],
   "source": [
    "s1.hello()\n",
    "\n",
    "# Student.hello(s1)"
   ]
  },
  {
   "cell_type": "code",
   "execution_count": 25,
   "id": "0b2b5fac",
   "metadata": {},
   "outputs": [
    {
     "name": "stdout",
     "output_type": "stream",
     "text": [
      "Hello!\n"
     ]
    }
   ],
   "source": [
    "Student.hello() # class method instead of a instance method"
   ]
  },
  {
   "cell_type": "code",
   "execution_count": 26,
   "id": "b5431376",
   "metadata": {},
   "outputs": [],
   "source": [
    "class Student:\n",
    "    def hello(self):\n",
    "        print(\"Hello!\")"
   ]
  },
  {
   "cell_type": "code",
   "execution_count": 27,
   "id": "72455f39",
   "metadata": {},
   "outputs": [],
   "source": [
    "s1 = Student()"
   ]
  },
  {
   "cell_type": "code",
   "execution_count": 30,
   "id": "a9a7a8f1",
   "metadata": {},
   "outputs": [
    {
     "name": "stdout",
     "output_type": "stream",
     "text": [
      "Hello!\n"
     ]
    }
   ],
   "source": [
    "s1.hello() # instance method instead of a class method"
   ]
  },
  {
   "cell_type": "code",
   "execution_count": 31,
   "id": "cc2e1344",
   "metadata": {},
   "outputs": [
    {
     "ename": "TypeError",
     "evalue": "hello() missing 1 required positional argument: 'self'",
     "output_type": "error",
     "traceback": [
      "\u001b[0;31m---------------------------------------------------------------------------\u001b[0m",
      "\u001b[0;31mTypeError\u001b[0m                                 Traceback (most recent call last)",
      "\u001b[0;32m/var/folders/nn/c52y0d3j0gq59dpsswchkt2r0000gn/T/ipykernel_41253/1833873148.py\u001b[0m in \u001b[0;36m<module>\u001b[0;34m\u001b[0m\n\u001b[0;32m----> 1\u001b[0;31m \u001b[0mStudent\u001b[0m\u001b[0;34m.\u001b[0m\u001b[0mhello\u001b[0m\u001b[0;34m(\u001b[0m\u001b[0;34m)\u001b[0m\u001b[0;34m\u001b[0m\u001b[0;34m\u001b[0m\u001b[0m\n\u001b[0m",
      "\u001b[0;31mTypeError\u001b[0m: hello() missing 1 required positional argument: 'self'"
     ]
    }
   ],
   "source": [
    "Student.hello()"
   ]
  },
  {
   "cell_type": "code",
   "execution_count": 32,
   "id": "f1976bc4",
   "metadata": {},
   "outputs": [],
   "source": [
    "class Student:\n",
    "    def __init__(self, name, age):\n",
    "        self.name = name\n",
    "        self.age = age"
   ]
  },
  {
   "cell_type": "code",
   "execution_count": 33,
   "id": "a97caccb",
   "metadata": {},
   "outputs": [],
   "source": [
    "s1 = Student(\"Bipin\", 5000)"
   ]
  },
  {
   "cell_type": "code",
   "execution_count": 34,
   "id": "d680d5b9",
   "metadata": {},
   "outputs": [
    {
     "data": {
      "text/plain": [
       "<__main__.Student at 0x7fa1a01a5700>"
      ]
     },
     "execution_count": 34,
     "metadata": {},
     "output_type": "execute_result"
    }
   ],
   "source": [
    "s1"
   ]
  },
  {
   "cell_type": "code",
   "execution_count": 35,
   "id": "58e1e2bc",
   "metadata": {},
   "outputs": [
    {
     "data": {
      "text/plain": [
       "'Bipin'"
      ]
     },
     "execution_count": 35,
     "metadata": {},
     "output_type": "execute_result"
    }
   ],
   "source": [
    "s1.name"
   ]
  },
  {
   "cell_type": "code",
   "execution_count": 36,
   "id": "f753825b",
   "metadata": {},
   "outputs": [
    {
     "data": {
      "text/plain": [
       "5000"
      ]
     },
     "execution_count": 36,
     "metadata": {},
     "output_type": "execute_result"
    }
   ],
   "source": [
    "s1.age"
   ]
  },
  {
   "cell_type": "code",
   "execution_count": 37,
   "id": "fec03ee9",
   "metadata": {},
   "outputs": [],
   "source": [
    "class Dog:\n",
    "    kind = \"labra\"\n",
    "    \n",
    "    def __init__(self, name):\n",
    "        self.name = name"
   ]
  },
  {
   "cell_type": "code",
   "execution_count": 52,
   "id": "9dfaad3b",
   "metadata": {},
   "outputs": [],
   "source": [
    "d1 = Dog(\"Tuffy\")\n",
    "d2 = Dog(\"Scooby\")"
   ]
  },
  {
   "cell_type": "code",
   "execution_count": 39,
   "id": "6ed91bee",
   "metadata": {},
   "outputs": [],
   "source": []
  },
  {
   "cell_type": "code",
   "execution_count": 40,
   "id": "367cd774",
   "metadata": {},
   "outputs": [
    {
     "data": {
      "text/plain": [
       "'Tuffy'"
      ]
     },
     "execution_count": 40,
     "metadata": {},
     "output_type": "execute_result"
    }
   ],
   "source": [
    "d1.name"
   ]
  },
  {
   "cell_type": "code",
   "execution_count": 41,
   "id": "8347d264",
   "metadata": {},
   "outputs": [
    {
     "data": {
      "text/plain": [
       "'Scooby'"
      ]
     },
     "execution_count": 41,
     "metadata": {},
     "output_type": "execute_result"
    }
   ],
   "source": [
    "d2.name"
   ]
  },
  {
   "cell_type": "code",
   "execution_count": 42,
   "id": "e9cfa24e",
   "metadata": {},
   "outputs": [
    {
     "data": {
      "text/plain": [
       "'labra'"
      ]
     },
     "execution_count": 42,
     "metadata": {},
     "output_type": "execute_result"
    }
   ],
   "source": [
    "d1.kind"
   ]
  },
  {
   "cell_type": "code",
   "execution_count": 43,
   "id": "6b1e8d22",
   "metadata": {},
   "outputs": [
    {
     "data": {
      "text/plain": [
       "'labra'"
      ]
     },
     "execution_count": 43,
     "metadata": {},
     "output_type": "execute_result"
    }
   ],
   "source": [
    "d2.kind"
   ]
  },
  {
   "cell_type": "code",
   "execution_count": 44,
   "id": "56bf5afa",
   "metadata": {},
   "outputs": [],
   "source": [
    "d1.kind = \"pomerarian\""
   ]
  },
  {
   "cell_type": "code",
   "execution_count": 45,
   "id": "79cc2df2",
   "metadata": {},
   "outputs": [
    {
     "data": {
      "text/plain": [
       "'pomerarian'"
      ]
     },
     "execution_count": 45,
     "metadata": {},
     "output_type": "execute_result"
    }
   ],
   "source": [
    "d1.kind"
   ]
  },
  {
   "cell_type": "code",
   "execution_count": 46,
   "id": "3a532800",
   "metadata": {},
   "outputs": [
    {
     "data": {
      "text/plain": [
       "'labra'"
      ]
     },
     "execution_count": 46,
     "metadata": {},
     "output_type": "execute_result"
    }
   ],
   "source": [
    "d2.kind"
   ]
  },
  {
   "cell_type": "code",
   "execution_count": 47,
   "id": "51c6a678",
   "metadata": {},
   "outputs": [
    {
     "data": {
      "text/plain": [
       "'labra'"
      ]
     },
     "execution_count": 47,
     "metadata": {},
     "output_type": "execute_result"
    }
   ],
   "source": [
    "Dog.kind"
   ]
  },
  {
   "cell_type": "code",
   "execution_count": 48,
   "id": "8524abf6",
   "metadata": {},
   "outputs": [],
   "source": [
    "Dog.kind = \"random\""
   ]
  },
  {
   "cell_type": "code",
   "execution_count": 49,
   "id": "c32d8a65",
   "metadata": {},
   "outputs": [
    {
     "data": {
      "text/plain": [
       "'random'"
      ]
     },
     "execution_count": 49,
     "metadata": {},
     "output_type": "execute_result"
    }
   ],
   "source": [
    "d2.kind"
   ]
  },
  {
   "cell_type": "code",
   "execution_count": 50,
   "id": "5b352c0e",
   "metadata": {},
   "outputs": [
    {
     "data": {
      "text/plain": [
       "'pomerarian'"
      ]
     },
     "execution_count": 50,
     "metadata": {},
     "output_type": "execute_result"
    }
   ],
   "source": [
    "d1.kind"
   ]
  },
  {
   "cell_type": "code",
   "execution_count": 53,
   "id": "975b23c2",
   "metadata": {},
   "outputs": [],
   "source": [
    "class Dog:\n",
    "    tricks = []\n",
    "    \n",
    "    def __init__(self, name):\n",
    "        self.name = name\n",
    "        \n",
    "    def teach_trick(self, trick):\n",
    "        self.tricks.append(trick)"
   ]
  },
  {
   "cell_type": "code",
   "execution_count": 54,
   "id": "46c7cb89",
   "metadata": {},
   "outputs": [],
   "source": [
    "d1 = Dog(\"Tuffy\")\n",
    "d2 = Dog(\"Scooby\")"
   ]
  },
  {
   "cell_type": "code",
   "execution_count": 55,
   "id": "121eeff1",
   "metadata": {},
   "outputs": [
    {
     "data": {
      "text/plain": [
       "[]"
      ]
     },
     "execution_count": 55,
     "metadata": {},
     "output_type": "execute_result"
    }
   ],
   "source": [
    "d1.tricks"
   ]
  },
  {
   "cell_type": "code",
   "execution_count": 56,
   "id": "13b0922a",
   "metadata": {},
   "outputs": [
    {
     "data": {
      "text/plain": [
       "[]"
      ]
     },
     "execution_count": 56,
     "metadata": {},
     "output_type": "execute_result"
    }
   ],
   "source": [
    "d2.tricks"
   ]
  },
  {
   "cell_type": "code",
   "execution_count": 57,
   "id": "dda5e804",
   "metadata": {},
   "outputs": [],
   "source": [
    "d1.teach_trick(\"Jump\")"
   ]
  },
  {
   "cell_type": "code",
   "execution_count": 59,
   "id": "a0885e77",
   "metadata": {},
   "outputs": [
    {
     "data": {
      "text/plain": [
       "['Jump']"
      ]
     },
     "execution_count": 59,
     "metadata": {},
     "output_type": "execute_result"
    }
   ],
   "source": [
    "d2.tricks"
   ]
  },
  {
   "cell_type": "code",
   "execution_count": 60,
   "id": "b863e1ee",
   "metadata": {},
   "outputs": [
    {
     "data": {
      "text/plain": [
       "['Jump']"
      ]
     },
     "execution_count": 60,
     "metadata": {},
     "output_type": "execute_result"
    }
   ],
   "source": [
    "d1.tricks"
   ]
  },
  {
   "cell_type": "code",
   "execution_count": 61,
   "id": "7fef2e5d",
   "metadata": {},
   "outputs": [
    {
     "data": {
      "text/plain": [
       "['Jump']"
      ]
     },
     "execution_count": 61,
     "metadata": {},
     "output_type": "execute_result"
    }
   ],
   "source": [
    "Dog.tricks"
   ]
  },
  {
   "cell_type": "code",
   "execution_count": 100,
   "id": "8ed9e5ce",
   "metadata": {},
   "outputs": [],
   "source": [
    "class Car:\n",
    "    def __init__(self, name, milaege):\n",
    "        self.name = name\n",
    "        self.milaege = milaege\n",
    "        \n",
    "    def __str__(self):\n",
    "        return f\"{self.name} -> {self.milaege}\"\n",
    "    \n",
    "    def __add__(self, other):\n",
    "        return self.milaege + other.milaege\n",
    "    \n",
    "    def __call__(self):\n",
    "        print(\"I was just called! How cool!\")"
   ]
  },
  {
   "cell_type": "code",
   "execution_count": 101,
   "id": "b1d559b0",
   "metadata": {},
   "outputs": [],
   "source": [
    "c1 = Car(\"Nexon\", 13)\n",
    "c2 = Car(\"Altroz\", 15)"
   ]
  },
  {
   "cell_type": "code",
   "execution_count": 102,
   "id": "14856b33",
   "metadata": {},
   "outputs": [
    {
     "name": "stdout",
     "output_type": "stream",
     "text": [
      "Nexon -> 13\n"
     ]
    }
   ],
   "source": [
    "print(c1) # name -> milaege"
   ]
  },
  {
   "cell_type": "code",
   "execution_count": 103,
   "id": "cada20ee",
   "metadata": {},
   "outputs": [
    {
     "data": {
      "text/plain": [
       "28"
      ]
     },
     "execution_count": 103,
     "metadata": {},
     "output_type": "execute_result"
    }
   ],
   "source": [
    "c1 + c2"
   ]
  },
  {
   "cell_type": "code",
   "execution_count": 106,
   "id": "22ba7017",
   "metadata": {},
   "outputs": [
    {
     "name": "stdout",
     "output_type": "stream",
     "text": [
      "I was just called! How cool!\n"
     ]
    }
   ],
   "source": [
    "c1()"
   ]
  },
  {
   "cell_type": "code",
   "execution_count": 104,
   "id": "4451bde6",
   "metadata": {},
   "outputs": [],
   "source": [
    "# << - left shift operator"
   ]
  },
  {
   "cell_type": "code",
   "execution_count": 105,
   "id": "bfd1af5c",
   "metadata": {
    "scrolled": true
   },
   "outputs": [
    {
     "name": "stdout",
     "output_type": "stream",
     "text": [
      "Hello world!\n"
     ]
    },
    {
     "data": {
      "text/plain": [
       "<__main__.Printer at 0x7fa1b1472370>"
      ]
     },
     "execution_count": 105,
     "metadata": {},
     "output_type": "execute_result"
    }
   ],
   "source": [
    "cout << \"Hello world!\" # make this syntax work in python"
   ]
  },
  {
   "cell_type": "code",
   "execution_count": 91,
   "id": "bdeb365a",
   "metadata": {},
   "outputs": [],
   "source": [
    "class Printer:\n",
    "    def __lshift__(self, string):\n",
    "        print(string)\n",
    "        \n",
    "        return self"
   ]
  },
  {
   "cell_type": "code",
   "execution_count": 92,
   "id": "81ddc1d4",
   "metadata": {},
   "outputs": [],
   "source": [
    "cout = Printer()"
   ]
  },
  {
   "cell_type": "code",
   "execution_count": 93,
   "id": "9706998b",
   "metadata": {},
   "outputs": [
    {
     "name": "stdout",
     "output_type": "stream",
     "text": [
      "WOW!\n"
     ]
    },
    {
     "data": {
      "text/plain": [
       "<__main__.Printer at 0x7fa1b1472370>"
      ]
     },
     "execution_count": 93,
     "metadata": {},
     "output_type": "execute_result"
    }
   ],
   "source": [
    "cout << \"WOW!\""
   ]
  },
  {
   "cell_type": "code",
   "execution_count": 94,
   "id": "00bab2b0",
   "metadata": {},
   "outputs": [
    {
     "name": "stdout",
     "output_type": "stream",
     "text": [
      "Something\n",
      "crazy!\n"
     ]
    },
    {
     "data": {
      "text/plain": [
       "<__main__.Printer at 0x7fa1b1472370>"
      ]
     },
     "execution_count": 94,
     "metadata": {},
     "output_type": "execute_result"
    }
   ],
   "source": [
    "cout << \"Something\" << \"crazy!\" # Let's make this work now!\n",
    "# None << \"crazy!\""
   ]
  },
  {
   "cell_type": "code",
   "execution_count": 95,
   "id": "a6216ddc",
   "metadata": {},
   "outputs": [
    {
     "name": "stdout",
     "output_type": "stream",
     "text": [
      "I\n",
      "AM\n",
      "AMAZED!\n"
     ]
    },
    {
     "data": {
      "text/plain": [
       "<__main__.Printer at 0x7fa1b1472370>"
      ]
     },
     "execution_count": 95,
     "metadata": {},
     "output_type": "execute_result"
    }
   ],
   "source": [
    "cout << \"I\" << \"AM\" << \"AMAZED!\""
   ]
  },
  {
   "cell_type": "code",
   "execution_count": 96,
   "id": "7e9120cb",
   "metadata": {},
   "outputs": [],
   "source": [
    "def random():\n",
    "    return \"random\""
   ]
  },
  {
   "cell_type": "code",
   "execution_count": 97,
   "id": "e9581a5b",
   "metadata": {},
   "outputs": [
    {
     "data": {
      "text/plain": [
       "'random'"
      ]
     },
     "execution_count": 97,
     "metadata": {},
     "output_type": "execute_result"
    }
   ],
   "source": [
    "random()"
   ]
  },
  {
   "cell_type": "code",
   "execution_count": 99,
   "id": "e716d0f6",
   "metadata": {},
   "outputs": [
    {
     "data": {
      "text/plain": [
       "<__main__.Student at 0x7fa1b1472970>"
      ]
     },
     "execution_count": 99,
     "metadata": {},
     "output_type": "execute_result"
    }
   ],
   "source": [
    "Student(\"Bipin\", 5000)"
   ]
  },
  {
   "cell_type": "code",
   "execution_count": 108,
   "id": "2b6eef26",
   "metadata": {},
   "outputs": [],
   "source": [
    "class BankAccount:\n",
    "    def __init__(self, balance):\n",
    "        self.balance = balance\n",
    "        \n",
    "    def withdraw(self, amount):\n",
    "        self.balance -= amount\n",
    "    \n",
    "    def deposit(self, amount):\n",
    "        self.balance += amount"
   ]
  },
  {
   "cell_type": "code",
   "execution_count": 109,
   "id": "ad7a16a4",
   "metadata": {},
   "outputs": [],
   "source": [
    "b1 = BankAccount(10000)"
   ]
  },
  {
   "cell_type": "code",
   "execution_count": 110,
   "id": "5d66d0e8",
   "metadata": {},
   "outputs": [],
   "source": [
    "b1.deposit(5000)"
   ]
  },
  {
   "cell_type": "code",
   "execution_count": 111,
   "id": "27d6d475",
   "metadata": {},
   "outputs": [
    {
     "data": {
      "text/plain": [
       "15000"
      ]
     },
     "execution_count": 111,
     "metadata": {},
     "output_type": "execute_result"
    }
   ],
   "source": [
    "b1.balance"
   ]
  },
  {
   "cell_type": "code",
   "execution_count": 112,
   "id": "1a787e13",
   "metadata": {},
   "outputs": [],
   "source": [
    "b1.withdraw(15000)"
   ]
  },
  {
   "cell_type": "code",
   "execution_count": 113,
   "id": "476d8587",
   "metadata": {},
   "outputs": [
    {
     "data": {
      "text/plain": [
       "0"
      ]
     },
     "execution_count": 113,
     "metadata": {},
     "output_type": "execute_result"
    }
   ],
   "source": [
    "b1.balance"
   ]
  },
  {
   "cell_type": "code",
   "execution_count": 114,
   "id": "f2b2d92f",
   "metadata": {},
   "outputs": [],
   "source": [
    "b1.balance = 1234567898765434567898765432"
   ]
  },
  {
   "cell_type": "code",
   "execution_count": 115,
   "id": "84102f3d",
   "metadata": {},
   "outputs": [
    {
     "data": {
      "text/plain": [
       "1234567898765434567898765432"
      ]
     },
     "execution_count": 115,
     "metadata": {},
     "output_type": "execute_result"
    }
   ],
   "source": [
    "b1.balance"
   ]
  },
  {
   "cell_type": "code",
   "execution_count": 121,
   "id": "12afbf2e",
   "metadata": {},
   "outputs": [],
   "source": [
    "class BankAccount:\n",
    "    def __init__(self, balance):\n",
    "        self.__balance = balance\n",
    "        \n",
    "    def withdraw(self, amount):\n",
    "        self.__balance -= amount\n",
    "    \n",
    "    def deposit(self, amount):\n",
    "        self.__balance += amount\n",
    "        \n",
    "    def show_balance(self):\n",
    "        print(self.__balance)"
   ]
  },
  {
   "cell_type": "code",
   "execution_count": 122,
   "id": "3732d03d",
   "metadata": {},
   "outputs": [],
   "source": [
    "b1 = BankAccount(10000)"
   ]
  },
  {
   "cell_type": "code",
   "execution_count": 123,
   "id": "077d3ccd",
   "metadata": {},
   "outputs": [],
   "source": [
    "b1.deposit(5000)"
   ]
  },
  {
   "cell_type": "code",
   "execution_count": 124,
   "id": "288795e8",
   "metadata": {},
   "outputs": [
    {
     "name": "stdout",
     "output_type": "stream",
     "text": [
      "15000\n"
     ]
    }
   ],
   "source": [
    "b1.show_balance()"
   ]
  },
  {
   "cell_type": "code",
   "execution_count": 125,
   "id": "294d310d",
   "metadata": {},
   "outputs": [],
   "source": [
    "b1.__balance = 23456789876543"
   ]
  },
  {
   "cell_type": "code",
   "execution_count": 126,
   "id": "a1e30ef2",
   "metadata": {},
   "outputs": [
    {
     "data": {
      "text/plain": [
       "23456789876543"
      ]
     },
     "execution_count": 126,
     "metadata": {},
     "output_type": "execute_result"
    }
   ],
   "source": [
    "b1.__balance"
   ]
  },
  {
   "cell_type": "code",
   "execution_count": 127,
   "id": "fe57d9bb",
   "metadata": {},
   "outputs": [
    {
     "name": "stdout",
     "output_type": "stream",
     "text": [
      "15000\n"
     ]
    }
   ],
   "source": [
    "b1.show_balance()"
   ]
  },
  {
   "cell_type": "code",
   "execution_count": 131,
   "id": "dead389e",
   "metadata": {},
   "outputs": [],
   "source": [
    "b1._BankAccount__balance = 234567898765432 # Name Mangling in Python"
   ]
  },
  {
   "cell_type": "code",
   "execution_count": 130,
   "id": "5f55d3c9",
   "metadata": {},
   "outputs": [
    {
     "name": "stdout",
     "output_type": "stream",
     "text": [
      "234567898765432\n"
     ]
    }
   ],
   "source": [
    "b1.show_balance()"
   ]
  },
  {
   "cell_type": "code",
   "execution_count": 139,
   "id": "3d7e0ab6",
   "metadata": {},
   "outputs": [],
   "source": [
    "class SchoolMember:\n",
    "    def __init__(self, name):\n",
    "        self.name = name\n",
    "\n",
    "class Student(SchoolMember):\n",
    "    def __init__(self, name, grade):\n",
    "        super().__init__(name)\n",
    "        self.grade = grade\n",
    "\n",
    "class Staff(SchoolMember):\n",
    "    def __init__(self, name, salary):\n",
    "        super().__init__(name)\n",
    "        self.salary = salary\n",
    "\n",
    "class Teacher(Staff):\n",
    "    def __init__(self, name, salary, subject):\n",
    "        # Staff.__init__(self, name, salary)\n",
    "        super().__init__(name, salary)\n",
    "        # super() is a reference to the direct parent\n",
    "        self.subject = subject"
   ]
  },
  {
   "cell_type": "code",
   "execution_count": 140,
   "id": "07a2d29a",
   "metadata": {},
   "outputs": [],
   "source": [
    "t1 = Teacher(\"Bipin\", 10, \"Python\")"
   ]
  },
  {
   "cell_type": "code",
   "execution_count": 141,
   "id": "0a64d339",
   "metadata": {},
   "outputs": [
    {
     "data": {
      "text/plain": [
       "'Python'"
      ]
     },
     "execution_count": 141,
     "metadata": {},
     "output_type": "execute_result"
    }
   ],
   "source": [
    "t1.subject"
   ]
  },
  {
   "cell_type": "code",
   "execution_count": 142,
   "id": "11a41869",
   "metadata": {},
   "outputs": [
    {
     "data": {
      "text/plain": [
       "10"
      ]
     },
     "execution_count": 142,
     "metadata": {},
     "output_type": "execute_result"
    }
   ],
   "source": [
    "t1.salary"
   ]
  },
  {
   "cell_type": "code",
   "execution_count": 143,
   "id": "988ba75d",
   "metadata": {},
   "outputs": [
    {
     "data": {
      "text/plain": [
       "'Bipin'"
      ]
     },
     "execution_count": 143,
     "metadata": {},
     "output_type": "execute_result"
    }
   ],
   "source": [
    "t1.name"
   ]
  },
  {
   "cell_type": "code",
   "execution_count": 144,
   "id": "9c469174",
   "metadata": {},
   "outputs": [],
   "source": [
    "# HOMEWORK -\n",
    "# FIGURE OUT SUPER FOR MULTIPLE INHERITENCE"
   ]
  },
  {
   "cell_type": "code",
   "execution_count": 145,
   "id": "3676b341",
   "metadata": {},
   "outputs": [],
   "source": [
    "class A:\n",
    "    pass\n",
    "\n",
    "class B:\n",
    "    pass\n",
    "\n",
    "class C(A, B):\n",
    "    pass"
   ]
  },
  {
   "cell_type": "code",
   "execution_count": 164,
   "id": "1c01e32e",
   "metadata": {},
   "outputs": [],
   "source": [
    "class A:\n",
    "    x = 10\n",
    "\n",
    "class B(A):\n",
    "    pass\n",
    "\n",
    "class C(B):\n",
    "    pass\n",
    "    \n",
    "class D(A):\n",
    "    x = 5\n",
    "    \n",
    "class E(C, D):\n",
    "    pass"
   ]
  },
  {
   "cell_type": "code",
   "execution_count": 165,
   "id": "701e1edd",
   "metadata": {},
   "outputs": [],
   "source": [
    "e = E()"
   ]
  },
  {
   "cell_type": "code",
   "execution_count": 166,
   "id": "ab5ee944",
   "metadata": {},
   "outputs": [
    {
     "data": {
      "text/plain": [
       "5"
      ]
     },
     "execution_count": 166,
     "metadata": {},
     "output_type": "execute_result"
    }
   ],
   "source": [
    "e.x"
   ]
  },
  {
   "cell_type": "code",
   "execution_count": 159,
   "id": "a7de94a4",
   "metadata": {},
   "outputs": [
    {
     "data": {
      "text/plain": [
       "(__main__.E, __main__.C, __main__.B, __main__.D, __main__.A, object)"
      ]
     },
     "execution_count": 159,
     "metadata": {},
     "output_type": "execute_result"
    }
   ],
   "source": [
    "E.__mro__"
   ]
  },
  {
   "cell_type": "markdown",
   "id": "7a5e2fb8",
   "metadata": {},
   "source": [
    "# Functional Programming"
   ]
  },
  {
   "cell_type": "code",
   "execution_count": 167,
   "id": "0c8ffa4d",
   "metadata": {},
   "outputs": [
    {
     "data": {
      "text/plain": [
       "True"
      ]
     },
     "execution_count": 167,
     "metadata": {},
     "output_type": "execute_result"
    }
   ],
   "source": [
    "isinstance(print, object)"
   ]
  },
  {
   "cell_type": "code",
   "execution_count": 168,
   "id": "df5a7136",
   "metadata": {},
   "outputs": [],
   "source": [
    "# Anonymous Functions (Lambda functions)"
   ]
  },
  {
   "cell_type": "code",
   "execution_count": 173,
   "id": "b7b8e155",
   "metadata": {},
   "outputs": [],
   "source": [
    "def square(num):\n",
    "    return num ** 2 # single line function body which is a return statement"
   ]
  },
  {
   "cell_type": "code",
   "execution_count": 174,
   "id": "25508e3e",
   "metadata": {},
   "outputs": [],
   "source": [
    "square_cool = lambda num: num ** 2"
   ]
  },
  {
   "cell_type": "code",
   "execution_count": 175,
   "id": "b227f783",
   "metadata": {},
   "outputs": [
    {
     "data": {
      "text/plain": [
       "4"
      ]
     },
     "execution_count": 175,
     "metadata": {},
     "output_type": "execute_result"
    }
   ],
   "source": [
    "square_cool(2)"
   ]
  },
  {
   "cell_type": "code",
   "execution_count": 176,
   "id": "474ffcdf",
   "metadata": {},
   "outputs": [],
   "source": [
    "random = lambda x, y: x + y"
   ]
  },
  {
   "cell_type": "code",
   "execution_count": 177,
   "id": "18be105e",
   "metadata": {},
   "outputs": [
    {
     "data": {
      "text/plain": [
       "11"
      ]
     },
     "execution_count": 177,
     "metadata": {},
     "output_type": "execute_result"
    }
   ],
   "source": [
    "random(5,6)"
   ]
  },
  {
   "cell_type": "code",
   "execution_count": 178,
   "id": "62131daf",
   "metadata": {},
   "outputs": [
    {
     "data": {
      "text/plain": [
       "64"
      ]
     },
     "execution_count": 178,
     "metadata": {},
     "output_type": "execute_result"
    }
   ],
   "source": [
    "(lambda x: x ** 3)(4)"
   ]
  },
  {
   "cell_type": "code",
   "execution_count": 179,
   "id": "c66f9cc6",
   "metadata": {},
   "outputs": [
    {
     "data": {
      "text/plain": [
       "[1, 2, 3, 4, 5, 5, 6, 7]"
      ]
     },
     "execution_count": 179,
     "metadata": {},
     "output_type": "execute_result"
    }
   ],
   "source": [
    "sorted([5,6,7,3,4,5,1,2])"
   ]
  },
  {
   "cell_type": "code",
   "execution_count": 181,
   "id": "eb53e386",
   "metadata": {},
   "outputs": [],
   "source": [
    "students = [\n",
    "    {\"name\": \"A\", \"marks\": 50},\n",
    "    {\"name\": \"B\", \"marks\": 100},\n",
    "    {\"name\": \"C\", \"marks\": 40},\n",
    "    {\"name\": \"D\", \"marks\": 70},\n",
    "    {\"name\": \"E\", \"marks\": 60}\n",
    "]"
   ]
  },
  {
   "cell_type": "code",
   "execution_count": 182,
   "id": "dcbc861d",
   "metadata": {},
   "outputs": [
    {
     "ename": "TypeError",
     "evalue": "'<' not supported between instances of 'dict' and 'dict'",
     "output_type": "error",
     "traceback": [
      "\u001b[0;31m---------------------------------------------------------------------------\u001b[0m",
      "\u001b[0;31mTypeError\u001b[0m                                 Traceback (most recent call last)",
      "\u001b[0;32m/var/folders/nn/c52y0d3j0gq59dpsswchkt2r0000gn/T/ipykernel_41253/645918957.py\u001b[0m in \u001b[0;36m<module>\u001b[0;34m\u001b[0m\n\u001b[0;32m----> 1\u001b[0;31m \u001b[0msorted\u001b[0m\u001b[0;34m(\u001b[0m\u001b[0mstudents\u001b[0m\u001b[0;34m)\u001b[0m\u001b[0;34m\u001b[0m\u001b[0;34m\u001b[0m\u001b[0m\n\u001b[0m",
      "\u001b[0;31mTypeError\u001b[0m: '<' not supported between instances of 'dict' and 'dict'"
     ]
    }
   ],
   "source": [
    "sorted(students)"
   ]
  },
  {
   "cell_type": "code",
   "execution_count": 184,
   "id": "544e04e8",
   "metadata": {},
   "outputs": [
    {
     "data": {
      "text/plain": [
       "[{'name': 'C', 'marks': 40},\n",
       " {'name': 'A', 'marks': 50},\n",
       " {'name': 'E', 'marks': 60},\n",
       " {'name': 'D', 'marks': 70},\n",
       " {'name': 'B', 'marks': 100}]"
      ]
     },
     "execution_count": 184,
     "metadata": {},
     "output_type": "execute_result"
    }
   ],
   "source": [
    "sorted(students, key = lambda x: x[\"marks\"])"
   ]
  },
  {
   "cell_type": "code",
   "execution_count": 185,
   "id": "3b877ae3",
   "metadata": {},
   "outputs": [],
   "source": [
    "# HIGHER ORDER FUNCTIONS"
   ]
  },
  {
   "cell_type": "code",
   "execution_count": 186,
   "id": "a74d6f11",
   "metadata": {},
   "outputs": [],
   "source": [
    "def gen_exp(n):\n",
    "    def exp(x):\n",
    "        return x ** n\n",
    "    \n",
    "    return exp"
   ]
  },
  {
   "cell_type": "code",
   "execution_count": 187,
   "id": "8c91f698",
   "metadata": {},
   "outputs": [],
   "source": [
    "exp_5 = gen_exp(5)"
   ]
  },
  {
   "cell_type": "code",
   "execution_count": 188,
   "id": "7d28ba51",
   "metadata": {},
   "outputs": [
    {
     "data": {
      "text/plain": [
       "function"
      ]
     },
     "execution_count": 188,
     "metadata": {},
     "output_type": "execute_result"
    }
   ],
   "source": [
    "type(exp_5)"
   ]
  },
  {
   "cell_type": "code",
   "execution_count": 189,
   "id": "0193edd7",
   "metadata": {},
   "outputs": [
    {
     "data": {
      "text/plain": [
       "32"
      ]
     },
     "execution_count": 189,
     "metadata": {},
     "output_type": "execute_result"
    }
   ],
   "source": [
    "exp_5(2)"
   ]
  },
  {
   "cell_type": "code",
   "execution_count": 190,
   "id": "2bb3a4fb",
   "metadata": {},
   "outputs": [],
   "source": [
    "exp_10 = gen_exp(10)"
   ]
  },
  {
   "cell_type": "code",
   "execution_count": 191,
   "id": "588fa139",
   "metadata": {},
   "outputs": [
    {
     "data": {
      "text/plain": [
       "1024"
      ]
     },
     "execution_count": 191,
     "metadata": {},
     "output_type": "execute_result"
    }
   ],
   "source": [
    "exp_10(2)"
   ]
  },
  {
   "cell_type": "code",
   "execution_count": null,
   "id": "abfed80a",
   "metadata": {},
   "outputs": [],
   "source": []
  }
 ],
 "metadata": {
  "kernelspec": {
   "display_name": "Python 3 (ipykernel)",
   "language": "python",
   "name": "python3"
  },
  "language_info": {
   "codemirror_mode": {
    "name": "ipython",
    "version": 3
   },
   "file_extension": ".py",
   "mimetype": "text/x-python",
   "name": "python",
   "nbconvert_exporter": "python",
   "pygments_lexer": "ipython3",
   "version": "3.9.5"
  }
 },
 "nbformat": 4,
 "nbformat_minor": 5
}
